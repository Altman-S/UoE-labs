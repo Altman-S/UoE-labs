{
 "cells": [
  {
   "cell_type": "markdown",
   "id": "3d170422",
   "metadata": {},
   "source": [
    "# Import Package"
   ]
  },
  {
   "cell_type": "code",
   "execution_count": 1,
   "id": "6b99bae9",
   "metadata": {},
   "outputs": [],
   "source": [
    "import re\n",
    "import json\n",
    "import math\n",
    "import numpy as np\n",
    "import collections\n",
    "import xml.dom.minidom\n",
    "from stemming.porter2 import stem"
   ]
  },
  {
   "cell_type": "markdown",
   "id": "cd258996",
   "metadata": {},
   "source": [
    "## Text Instruction\n",
    "processed_doc.txt: preprocessed document dictionary from the collection \\\n",
    "boolean_dict.txt: boolean results dictionary \\\n",
    "ranked_dict.txt: ranked results dictionary \\\n",
    "results.ranked.txt: ranked results \\\n",
    "index_ts_pos.txt: {'Term1': [[doc1,pos1], [doc2,pos2], [doc3,pos3] } \\\n",
    "index_ts.txt: {'Term1': {doc1: [position1, position2], doc2: [position1, position2]}}"
   ]
  },
  {
   "cell_type": "markdown",
   "id": "6c7ce403",
   "metadata": {},
   "source": [
    "# Input Dictionary"
   ]
  },
  {
   "cell_type": "code",
   "execution_count": 2,
   "id": "8c487810",
   "metadata": {},
   "outputs": [],
   "source": [
    "# input processed_doc.txt\n",
    "file = open('processed_doc.txt', 'r') \n",
    "js = file.read()\n",
    "processed_doc = json.loads(js) \n",
    "file.close()\n",
    "\n",
    "# input ranked_dict.txt\n",
    "file = open('ranked_dict.txt', 'r') \n",
    "js = file.read()\n",
    "ranked_dict = json.loads(js) \n",
    "file.close()\n",
    "\n",
    "# input term_doc_pos_dict\n",
    "# {'Term1': {doc1: [position1, position2], doc2: [position1, position2]}\n",
    "#  'Term2': {doc1: [position1, position2, position3], doc2: [position1, position2]}}\n",
    "file = open('index_ts.txt', 'r') \n",
    "js = file.read()\n",
    "term_doc_pos_dict = json.loads(js) \n",
    "file.close()"
   ]
  },
  {
   "cell_type": "markdown",
   "id": "bab590d1",
   "metadata": {},
   "source": [
    "# Append the content of all the n_d documents together"
   ]
  },
  {
   "cell_type": "code",
   "execution_count": 3,
   "id": "9926f8d5",
   "metadata": {},
   "outputs": [
    {
     "data": {
      "text/plain": [
       "[65]"
      ]
     },
     "execution_count": 3,
     "metadata": {},
     "output_type": "execute_result"
    }
   ],
   "source": [
    "# generate n_d document list\n",
    "n_d = 1\n",
    "n_t = 5\n",
    "\n",
    "top_doc_list = []\n",
    "\n",
    "for i in range(n_d):\n",
    "    top_doc_list.extend([ranked_dict['1'][i][0]])\n",
    "    \n",
    "top_doc_list"
   ]
  },
  {
   "cell_type": "code",
   "execution_count": 4,
   "id": "3cd22bae",
   "metadata": {},
   "outputs": [],
   "source": [
    "# append the content of all the n_d documents together\n",
    "doc_all_list = []\n",
    "\n",
    "for i in range(len(top_doc_list)):\n",
    "    for j in range(len(processed_doc[str(top_doc_list[i])])):\n",
    "        doc_all_list.extend([processed_doc[str(top_doc_list[i])][j][1]])\n",
    "\n",
    "doc_special_list = []\n",
    "\n",
    "for i in range(len(doc_all_list)):\n",
    "    if (doc_all_list[i] not in doc_special_list):\n",
    "        doc_special_list.extend([doc_all_list[i]])\n",
    "\n",
    "# doc_special_list"
   ]
  },
  {
   "cell_type": "code",
   "execution_count": 5,
   "id": "77658837",
   "metadata": {},
   "outputs": [],
   "source": [
    "# generate term score list\n",
    "score_list = []\n",
    "\n",
    "def takeSecond(elem):\n",
    "    return elem[1]\n",
    "\n",
    "for i in range(len(doc_special_list)):\n",
    "    score_doc = 0\n",
    "    w = doc_special_list[i]  # term\n",
    "    tf = 0  # term frequency\n",
    "    df = 0  # document frequency\n",
    "    \n",
    "    for j in range(len(top_doc_list)):\n",
    "        num = top_doc_list[j]\n",
    "        tf = tf + len(term_doc_pos_dict[w][str(num)])   \n",
    "    df = len(term_doc_pos_dict[w].keys())\n",
    "        \n",
    "    a = 1 + math.log10(tf)\n",
    "    b = math.log10(1000/df)\n",
    "    score_doc = a * b\n",
    "    \n",
    "    score_list.extend([[w, format(score_doc, '.4f')]])\n",
    "\n",
    "score_list.sort()\n",
    "score_list.sort(key=takeSecond, reverse=True)\n",
    "\n",
    "# score_list"
   ]
  },
  {
   "cell_type": "code",
   "execution_count": 6,
   "id": "d4fbf247",
   "metadata": {},
   "outputs": [
    {
     "data": {
      "text/plain": [
       "[['arithmet', '3.9031'],\n",
       " ['spurious', '3.9031'],\n",
       " ['lifetim', '3.5114'],\n",
       " ['bewar', '3.0000'],\n",
       " ['canp', '3.0000']]"
      ]
     },
     "execution_count": 6,
     "metadata": {},
     "output_type": "execute_result"
    }
   ],
   "source": [
    "output_score_list = []\n",
    "\n",
    "for i in range(n_t):\n",
    "    output_score_list.extend([score_list[i]])\n",
    "\n",
    "output_score_list"
   ]
  },
  {
   "cell_type": "code",
   "execution_count": 7,
   "id": "76d2207a",
   "metadata": {},
   "outputs": [
    {
     "data": {
      "text/plain": [
       "[['tax', '1.6422'],\n",
       " ['spend', '2.1724'],\n",
       " ['labour', '2.0158'],\n",
       " ['conserv', '2.4005'],\n",
       " ['rate', '1.3850']]"
      ]
     },
     "execution_count": 7,
     "metadata": {},
     "output_type": "execute_result"
    }
   ],
   "source": [
    "# add terms: tax spend labour conserv rate\n",
    "s = 'tax spend labour conserv rate'\n",
    "w_list = s.split(' ')\n",
    "add_score_list = []\n",
    "\n",
    "for i in range(len(w_list)):\n",
    "    score_doc = 0\n",
    "    w = w_list[i]  # term\n",
    "    tf = 0  # term frequency\n",
    "    df = 0  # document frequency\n",
    "    \n",
    "    for j in range(len(top_doc_list)):\n",
    "        num = top_doc_list[j]\n",
    "        tf = tf + len(term_doc_pos_dict[w][str(num)])   \n",
    "    df = len(term_doc_pos_dict[w].keys())\n",
    "        \n",
    "    a = 1 + math.log10(tf)\n",
    "    b = math.log10(1000/df)\n",
    "    score_doc = a * b\n",
    "    \n",
    "    add_score_list.extend([[w, format(score_doc, '.4f')]])\n",
    "\n",
    "add_score_list"
   ]
  },
  {
   "cell_type": "code",
   "execution_count": null,
   "id": "9254ff3b",
   "metadata": {},
   "outputs": [],
   "source": []
  },
  {
   "cell_type": "code",
   "execution_count": null,
   "id": "a86174a1",
   "metadata": {},
   "outputs": [],
   "source": []
  },
  {
   "cell_type": "code",
   "execution_count": null,
   "id": "f14ccb12",
   "metadata": {},
   "outputs": [],
   "source": []
  },
  {
   "cell_type": "code",
   "execution_count": null,
   "id": "c8be30df",
   "metadata": {},
   "outputs": [],
   "source": []
  },
  {
   "cell_type": "code",
   "execution_count": null,
   "id": "18ef4798",
   "metadata": {},
   "outputs": [],
   "source": []
  },
  {
   "cell_type": "code",
   "execution_count": 2,
   "id": "a27dd7e8",
   "metadata": {},
   "outputs": [],
   "source": [
    "def f(num):\n",
    "    a = 1/(1+math.exp(-num))\n",
    "    return a"
   ]
  },
  {
   "cell_type": "code",
   "execution_count": 7,
   "id": "b4575747",
   "metadata": {},
   "outputs": [],
   "source": [
    "x0 = np.array([1, 0.5, -0.35])\n",
    "x1 = np.array([1, -0.1, 0.1])\n",
    "x2 = np.array([1, -1.2, 1.0])\n",
    "y0 = 0\n",
    "y1 = 0\n",
    "y2 = 1\n",
    "w = np.array([[0], [-1], [1]])"
   ]
  },
  {
   "cell_type": "code",
   "execution_count": 11,
   "id": "cda306bd",
   "metadata": {},
   "outputs": [
    {
     "data": {
      "text/plain": [
       "1"
      ]
     },
     "execution_count": 11,
     "metadata": {},
     "output_type": "execute_result"
    }
   ],
   "source": [
    "np.dot(x0, w)\n",
    "x0[0]"
   ]
  },
  {
   "cell_type": "code",
   "execution_count": 14,
   "id": "5e7e64c8",
   "metadata": {},
   "outputs": [
    {
     "data": {
      "text/plain": [
       "0.14956858952254687"
      ]
     },
     "execution_count": 14,
     "metadata": {},
     "output_type": "execute_result"
    }
   ],
   "source": [
    "aaa = (y0 - f(np.dot(x0, w)))*x0[2] + (y1 - f(np.dot(x1, w)))*x1[2] + (y2 - f(np.dot(x2, w)))*x2[2]\n",
    "aaa"
   ]
  },
  {
   "cell_type": "code",
   "execution_count": 17,
   "id": "f42f3538",
   "metadata": {},
   "outputs": [
    {
     "data": {
      "text/plain": [
       "0.6521739130434783"
      ]
     },
     "execution_count": 17,
     "metadata": {},
     "output_type": "execute_result"
    }
   ],
   "source": [
    "0.75/1.15"
   ]
  },
  {
   "cell_type": "code",
   "execution_count": 18,
   "id": "335903d1",
   "metadata": {},
   "outputs": [
    {
     "data": {
      "text/plain": [
       "0.6190476190476191"
      ]
     },
     "execution_count": 18,
     "metadata": {},
     "output_type": "execute_result"
    }
   ],
   "source": [
    "0.65/1.05"
   ]
  },
  {
   "cell_type": "code",
   "execution_count": null,
   "id": "d37773d8",
   "metadata": {},
   "outputs": [],
   "source": []
  }
 ],
 "metadata": {
  "kernelspec": {
   "display_name": "Python 3 (ipykernel)",
   "language": "python",
   "name": "python3"
  },
  "language_info": {
   "codemirror_mode": {
    "name": "ipython",
    "version": 3
   },
   "file_extension": ".py",
   "mimetype": "text/x-python",
   "name": "python",
   "nbconvert_exporter": "python",
   "pygments_lexer": "ipython3",
   "version": "3.9.4"
  }
 },
 "nbformat": 4,
 "nbformat_minor": 5
}
