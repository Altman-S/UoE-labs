{
 "cells": [
  {
   "cell_type": "markdown",
   "id": "f23ae1fd",
   "metadata": {},
   "source": [
    "# Import Package "
   ]
  },
  {
   "cell_type": "code",
   "execution_count": 3,
   "id": "83589a08",
   "metadata": {},
   "outputs": [],
   "source": [
    "import re\n",
    "import json\n",
    "import math\n",
    "import numpy as np\n",
    "import collections\n",
    "import xml.dom.minidom\n",
    "from stemming.porter2 import stem"
   ]
  },
  {
   "cell_type": "markdown",
   "id": "3ba8511b",
   "metadata": {},
   "source": [
    "#  Input from .txt File into dictionary"
   ]
  },
  {
   "cell_type": "code",
   "execution_count": 4,
   "id": "65a55d95",
   "metadata": {},
   "outputs": [],
   "source": [
    "# Term -> (Document -> Position)\n",
    "# input term_doc_pos_dict\n",
    "# {'Term1': {doc1: [position1, position2], doc2: [position1, position2]}\n",
    "#  'Term2': {doc1: [position1, position2, position3], doc2: [position1, position2]}}\n",
    "\n",
    "file = open('index_ts.txt', 'r') \n",
    "js = file.read()\n",
    "term_doc_pos_dict = json.loads(js) \n",
    "file.close() \n",
    "\n",
    "# term_doc_pos_dict"
   ]
  },
  {
   "cell_type": "code",
   "execution_count": 3,
   "id": "456d67a8",
   "metadata": {},
   "outputs": [],
   "source": [
    "# Term -> Position\n",
    "# input from term_position_dict\n",
    "# {'Term1': [[doc1, pos1], [doc2, pos2], [doc3, pos3]\n",
    "#  'Term2': [[doc1, pos1], [doc2, pos2], [doc3, pos3]}\n",
    "\n",
    "file = open('index_ts_pos.txt', 'r') \n",
    "js = file.read()\n",
    "term_position_dict = json.loads(js) \n",
    "file.close() \n",
    "\n",
    "# term_position_dict"
   ]
  },
  {
   "cell_type": "markdown",
   "id": "000c1415",
   "metadata": {},
   "source": [
    "# Get Score of each Query"
   ]
  },
  {
   "cell_type": "code",
   "execution_count": 15,
   "id": "02a08a10",
   "metadata": {},
   "outputs": [],
   "source": [
    "# stopping words list\n",
    "with open('englishST.txt', 'r') as eng:\n",
    "    eng_str = eng.read()\n",
    "eng_list = eng_str.split()  \n",
    "\n",
    "def takeSecond(elem):\n",
    "        return elem[1]\n",
    "\n",
    "def getScore(s, term_doc_pos_dict):\n",
    "    s_list = s.split()\n",
    "    for m in range(len(s_list)):\n",
    "        s_list[m] = s_list[m].lower()  # lower()\n",
    "\n",
    "    # Stopping \n",
    "    stop_list = []\n",
    "    for i in s_list:\n",
    "        if (i not in eng_list):\n",
    "            stop_list.extend([i])\n",
    "    \n",
    "    # Normalisation\n",
    "    w_list = []\n",
    "    for j in stop_list:\n",
    "        w_list.extend([stem(j)])\n",
    "    \n",
    "    # get document list\n",
    "    doc_list = list(term_doc_pos_dict[w_list[0]].keys()) \n",
    "    for i in range(len(w_list)-1):\n",
    "        doc_list = list(set(doc_list).union(term_doc_pos_dict[w_list[i+1]].keys())) \n",
    "    for j in range(len(doc_list)):\n",
    "        doc_list[j] = int(doc_list[j])\n",
    "    doc_list.sort()\n",
    "    \n",
    "    # get score list\n",
    "    score_list = []\n",
    "    for i in range(len(doc_list)):\n",
    "        score_doc = 0\n",
    "        for j in range(len(w_list)):           \n",
    "            if (str(doc_list[i]) in list(term_doc_pos_dict[w_list[j]].keys())):\n",
    "                a = 1 + math.log10(len(term_doc_pos_dict[w_list[j]][str(doc_list[i])]))\n",
    "                # print(a)\n",
    "                b = math.log10(1000/len(term_doc_pos_dict[w_list[j]].keys()))\n",
    "                # print(b)\n",
    "                score_doc = score_doc + a * b\n",
    "        score_list.extend([[int(doc_list[i]), float(format(score_doc, '.4f'))]])  \n",
    "    \n",
    "    # sort according to 1st column\n",
    "    score_list.sort(key=takeSecond, reverse=True)\n",
    "              \n",
    "    return score_list"
   ]
  },
  {
   "cell_type": "code",
   "execution_count": 17,
   "id": "259087ff",
   "metadata": {},
   "outputs": [
    {
     "data": {
      "text/plain": [
       "267"
      ]
     },
     "execution_count": 17,
     "metadata": {},
     "output_type": "execute_result"
    }
   ],
   "source": [
    "len(getScore(\"income tax reduction\", term_doc_pos_dict))"
   ]
  },
  {
   "cell_type": "markdown",
   "id": "e060da21",
   "metadata": {},
   "source": [
    "# Generate term_score_dict "
   ]
  },
  {
   "cell_type": "code",
   "execution_count": 29,
   "id": "1d2fd5bb",
   "metadata": {},
   "outputs": [],
   "source": [
    "# Input query txt\n",
    "with open('queries.lab3.txt', 'r') as f:\n",
    "    line_list = f.readlines()\n",
    "f.close()\n",
    "\n",
    "term_score_dict = {}\n",
    "num_list = []\n",
    "l_list = []\n",
    "r = \"\"\"[0-9]\"\"\"\n",
    "\n",
    "# get the number\n",
    "for i in range(len(line_list)):  \n",
    "    num_list.extend([line_list[i].split()])  # split \n",
    "# get the line\n",
    "for j in range(len(line_list)):\n",
    "    l_list.extend([re.sub(r, '', line_list[j]).strip()])  # detele 0-9\n",
    "\n",
    "for k in range(len(l_list)):\n",
    "    term_score_dict[int(num_list[k][0])] = getScore(l_list[k], term_doc_pos_dict)\n",
    "\n",
    "# term_score_dict"
   ]
  },
  {
   "cell_type": "markdown",
   "id": "b5c5211a",
   "metadata": {},
   "source": [
    "# Output rank txt"
   ]
  },
  {
   "cell_type": "code",
   "execution_count": 31,
   "id": "86c4cedd",
   "metadata": {},
   "outputs": [],
   "source": [
    "# Output to output_rank.txt\n",
    "doc = open('output_rank.txt', 'w')\n",
    "for key, value in term_score_dict.items():\n",
    "    if (len(value) > 10):\n",
    "        for i in range(10):\n",
    "            print(str(key) + \",\" + str(value[i][0]) + \",\" + str(value[i][1]), file=doc)\n",
    "    else:\n",
    "        for i in range(len(value)):\n",
    "            print(str(key) + \",\" + str(value[i][0]) + \",\" + str(value[i][1]), file=doc)\n",
    "doc.close()"
   ]
  },
  {
   "cell_type": "code",
   "execution_count": null,
   "id": "b48ad8b6",
   "metadata": {},
   "outputs": [],
   "source": []
  },
  {
   "cell_type": "code",
   "execution_count": null,
   "id": "39f58842",
   "metadata": {},
   "outputs": [],
   "source": []
  },
  {
   "cell_type": "code",
   "execution_count": null,
   "id": "3ba1f820",
   "metadata": {},
   "outputs": [],
   "source": []
  },
  {
   "cell_type": "code",
   "execution_count": null,
   "id": "93a552c9",
   "metadata": {},
   "outputs": [],
   "source": []
  },
  {
   "cell_type": "code",
   "execution_count": null,
   "id": "6950b368",
   "metadata": {},
   "outputs": [],
   "source": []
  },
  {
   "cell_type": "code",
   "execution_count": null,
   "id": "7ef695f5",
   "metadata": {},
   "outputs": [],
   "source": []
  },
  {
   "cell_type": "code",
   "execution_count": null,
   "id": "74bfdfb4",
   "metadata": {},
   "outputs": [],
   "source": []
  },
  {
   "cell_type": "code",
   "execution_count": null,
   "id": "9d394832",
   "metadata": {},
   "outputs": [],
   "source": []
  },
  {
   "cell_type": "code",
   "execution_count": null,
   "id": "b2196022",
   "metadata": {},
   "outputs": [],
   "source": []
  },
  {
   "cell_type": "code",
   "execution_count": null,
   "id": "4ad99abe",
   "metadata": {},
   "outputs": [],
   "source": []
  },
  {
   "cell_type": "code",
   "execution_count": null,
   "id": "536a623b",
   "metadata": {},
   "outputs": [],
   "source": []
  },
  {
   "cell_type": "markdown",
   "id": "36d1fcbc",
   "metadata": {},
   "source": [
    "# 6 Input Query txt & Output to output_boolean.txt"
   ]
  },
  {
   "cell_type": "code",
   "execution_count": 16,
   "id": "2bebf19c",
   "metadata": {},
   "outputs": [],
   "source": [
    "# Input Query txt\n",
    "with open('queries.lab2.txt', 'r') as f:\n",
    "    line_list = f.readlines()\n",
    "f.close()\n",
    "\n",
    "query_dict = {}\n",
    "r = \"\"\"[q]\"\"\"\n",
    "\n",
    "for i in range(len(line_list)):  \n",
    "    line_list[i] = line_list[i].split(\":\")  # split  \n",
    "for j in range(len(line_list)):\n",
    "    line_list[j][0] = re.sub(r, '', line_list[j][0])  # detele q\n",
    "    line_list[j][1] = line_list[j][1].strip()  # delete \\n\n",
    "    query_dict[line_list[j][0]] = line_list[j][1]\n",
    "    \n",
    "# query_dict"
   ]
  },
  {
   "cell_type": "code",
   "execution_count": 17,
   "id": "981de4d4",
   "metadata": {},
   "outputs": [],
   "source": [
    "# get results.boolean dict\n",
    "# boolean_dict = {int1: list[int], int2: list[int]}\n",
    "boolean_dict = {}\n",
    "\n",
    "for i in range(len(query_dict)):\n",
    "    s = str(query_dict[str(i+1)])\n",
    "    boolean_dict[i+1] = search(s, term_doc_pos_dict, term_position_dict)\n",
    "    \n",
    "# boolean_dict"
   ]
  },
  {
   "cell_type": "code",
   "execution_count": 71,
   "id": "a9c8598e",
   "metadata": {},
   "outputs": [],
   "source": [
    "# Output to output_boolean.txt\n",
    "doc = open('output_boolean.txt', 'w')\n",
    "for key, value in boolean_dict.items():\n",
    "    for i in range(len(value)):\n",
    "        print(str(key) + \",\" + str(value[i]), file=doc)\n",
    "doc.close()"
   ]
  },
  {
   "cell_type": "code",
   "execution_count": null,
   "id": "ae0d48b0",
   "metadata": {},
   "outputs": [],
   "source": []
  },
  {
   "cell_type": "code",
   "execution_count": null,
   "id": "3bd784dc",
   "metadata": {},
   "outputs": [],
   "source": []
  },
  {
   "cell_type": "code",
   "execution_count": null,
   "id": "6094f2e7",
   "metadata": {},
   "outputs": [],
   "source": []
  },
  {
   "cell_type": "code",
   "execution_count": null,
   "id": "ba1eb549",
   "metadata": {},
   "outputs": [],
   "source": []
  },
  {
   "cell_type": "code",
   "execution_count": null,
   "id": "8dcf93cb",
   "metadata": {},
   "outputs": [],
   "source": []
  }
 ],
 "metadata": {
  "kernelspec": {
   "display_name": "Python 3 (ipykernel)",
   "language": "python",
   "name": "python3"
  },
  "language_info": {
   "codemirror_mode": {
    "name": "ipython",
    "version": 3
   },
   "file_extension": ".py",
   "mimetype": "text/x-python",
   "name": "python",
   "nbconvert_exporter": "python",
   "pygments_lexer": "ipython3",
   "version": "3.9.4"
  }
 },
 "nbformat": 4,
 "nbformat_minor": 5
}
